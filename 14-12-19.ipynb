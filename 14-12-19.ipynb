{
 "cells": [
  {
   "cell_type": "code",
   "execution_count": 10,
   "metadata": {},
   "outputs": [
    {
     "name": "stdout",
     "output_type": "stream",
     "text": [
      "enter a number:2016\n",
      "yes\n"
     ]
    }
   ],
   "source": [
    "n = int(input(\"enter a number:\"))\n",
    "if n%4==0 and n%100!=0 or n%400==0 :\n",
    "  print(\"yes\")\n",
    "else:\n",
    "    print(\"no\")"
   ]
  },
  {
   "cell_type": "code",
   "execution_count": 8,
   "metadata": {},
   "outputs": [
    {
     "name": "stdout",
     "output_type": "stream",
     "text": [
      "enter a:5\n",
      "enter b:7\n",
      "enter c:9\n",
      "c is greater\n"
     ]
    }
   ],
   "source": [
    "#find the largest number from the 3 given numbers\n",
    "a = int(input(\"enter a:\"))\n",
    "b = int(input(\"enter b:\"))\n",
    "c = int(input(\"enter c:\"))\n",
    "if a > b and a > c:\n",
    " print(\"a is greatest\")\n",
    "elif b > c and b > a:\n",
    " print(\"b is greatest\")\n",
    "else:    \n",
    " print(\"c is greater\")"
   ]
  },
  {
   "cell_type": "markdown",
   "metadata": {},
   "source": [
    "# while loop\n",
    "Syntax\n",
    "#### while boolean condition: <bn>\n",
    "          statements <br>\n",
    "          increment/decrement"
   ]
  },
  {
   "cell_type": "code",
   "execution_count": 7,
   "metadata": {},
   "outputs": [
    {
     "name": "stdout",
     "output_type": "stream",
     "text": [
      "gitam\n",
      "gitam\n",
      "gitam\n",
      "gitam\n",
      "gitam\n"
     ]
    }
   ],
   "source": [
    "#need to print gitam for 5 times\n",
    "x = 0\n",
    "while x<5:\n",
    "    print(\"gitam\")\n",
    "    x = x+1"
   ]
  },
  {
   "cell_type": "code",
   "execution_count": 5,
   "metadata": {},
   "outputs": [
    {
     "name": "stdout",
     "output_type": "stream",
     "text": [
      "enter a number10\n",
      "1\n",
      "2\n",
      "3\n",
      "4\n",
      "5\n",
      "6\n",
      "7\n",
      "8\n",
      "9\n",
      "10\n"
     ]
    }
   ],
   "source": [
    "#print 1 to 10 numbers\n",
    "n = int(input(\"enter a number\"))\n",
    "x = 1\n",
    "while x<=n:\n",
    "    print(x)\n",
    "    x=x+1"
   ]
  },
  {
   "cell_type": "code",
   "execution_count": 8,
   "metadata": {},
   "outputs": [
    {
     "name": "stdout",
     "output_type": "stream",
     "text": [
      "enter a number10\n",
      "30\n"
     ]
    }
   ],
   "source": [
    "#print even numbers sum in the input\n",
    "n = int(input(\"enter a number\"))\n",
    "n = 1\n",
    "sum = 0\n",
    "while n<=10:\n",
    "    if n%2 ==0:\n",
    "        sum = sum + n\n",
    "    n = n+1\n",
    "print(sum)"
   ]
  },
  {
   "cell_type": "code",
   "execution_count": null,
   "metadata": {},
   "outputs": [],
   "source": []
  }
 ],
 "metadata": {
  "kernelspec": {
   "display_name": "Python 3",
   "language": "python",
   "name": "python3"
  },
  "language_info": {
   "codemirror_mode": {
    "name": "ipython",
    "version": 3
   },
   "file_extension": ".py",
   "mimetype": "text/x-python",
   "name": "python",
   "nbconvert_exporter": "python",
   "pygments_lexer": "ipython3",
   "version": "3.7.3"
  }
 },
 "nbformat": 4,
 "nbformat_minor": 2
}
