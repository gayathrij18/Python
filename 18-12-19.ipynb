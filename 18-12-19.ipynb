{
 "cells": [
  {
   "cell_type": "code",
   "execution_count": null,
   "metadata": {},
   "outputs": [],
   "source": [
    "#include <stdio.h>\n",
    "#include<limits.h>\n",
    "int main()\n",
    "{\n",
    "    int a;\n",
    "    a=INT_MAX;\n",
    "    printf(\"%d\",a);\n",
    "    return 0;\n",
    "}"
   ]
  },
  {
   "cell_type": "code",
   "execution_count": null,
   "metadata": {},
   "outputs": [],
   "source": [
    "#include <stdio.h>\n",
    "#include<limits.h>\n",
    "int main()\n",
    "{\n",
    "    int a;\n",
    "    a=INT_MIN;\n",
    "    printf(\"%d\",a);\n",
    "    return 0;\n",
    "}\n"
   ]
  },
  {
   "cell_type": "code",
   "execution_count": null,
   "metadata": {},
   "outputs": [],
   "source": [
    "#include <stdio.h>\n",
    "\n",
    "int main()\n",
    "{\n",
    "    int i=65;\n",
    "    for(i=65;i<=90;i++)\n",
    "    printf(\"%c\",i);\n",
    "    return 0;\n",
    "}"
   ]
  },
  {
   "cell_type": "code",
   "execution_count": null,
   "metadata": {},
   "outputs": [],
   "source": [
    "#include <stdio.h>\n",
    "\n",
    "int main()\n",
    "{\n",
    "    int i=65;\n",
    "    for(i=65;i<=90;i++)\n",
    "    printf(\"%c=%d\",i,i);\n",
    "    return 0;\n",
    "}"
   ]
  },
  {
   "cell_type": "code",
   "execution_count": null,
   "metadata": {},
   "outputs": [],
   "source": [
    "#include <stdio.h>\n",
    "\n",
    "int main()\n",
    "{\n",
    "    int i=65;\n",
    "    for(i=0;i<=200;i++)\n",
    "    printf(\"%c=%d\",i,i);\n",
    "    return 0;\n",
    "}"
   ]
  },
  {
   "cell_type": "code",
   "execution_count": null,
   "metadata": {},
   "outputs": [],
   "source": [
    "#include <stdio.h>\n",
    "#include<limits.h>\n",
    "int main()\n",
    "{\n",
    "    printf(\"%d\",'+');\n",
    "    return 0;\n",
    "}\n"
   ]
  },
  {
   "cell_type": "code",
   "execution_count": null,
   "metadata": {},
   "outputs": [],
   "source": [
    "#include <stdio.h>\n",
    "#include<limits.h>\n",
    "int main()\n",
    "{\n",
    "    printf(\"abc\\nxyz\");\n",
    "    return 0;\n",
    "}"
   ]
  },
  {
   "cell_type": "code",
   "execution_count": null,
   "metadata": {},
   "outputs": [],
   "source": [
    "#include <stdio.h>\n",
    "#include<limits.h>\n",
    "int main()\n",
    "{\n",
    "    printf(\"abc\\b\\bxyz\");\n",
    "    return 0;\n",
    "}"
   ]
  },
  {
   "cell_type": "code",
   "execution_count": null,
   "metadata": {},
   "outputs": [],
   "source": [
    "#include <stdio.h>\n",
    "#include<limits.h>\n",
    "int main()\n",
    "{\n",
    "    printf(\"abc\\rxyz\");\n",
    "    return 0;\n",
    "}\n"
   ]
  },
  {
   "cell_type": "code",
   "execution_count": null,
   "metadata": {},
   "outputs": [],
   "source": [
    "#include <stdio.h>\n",
    "#include<limits.h>\n",
    "int main()\n",
    "{\n",
    "    printf(\"abc\\fxyz\");\n",
    "    return 0;\n",
    "}\n"
   ]
  },
  {
   "cell_type": "code",
   "execution_count": null,
   "metadata": {},
   "outputs": [],
   "source": [
    "#include <stdio.h>\n",
    "int main()\n",
    "{\n",
    "    int i=29;\n",
    "    printf(\"%o\",i);\n",
    "    return 0;\n",
    "}"
   ]
  },
  {
   "cell_type": "code",
   "execution_count": null,
   "metadata": {},
   "outputs": [],
   "source": [
    "#include <stdio.h>\n",
    "int main()\n",
    "{\n",
    "    int i=29;\n",
    "    printf(\"%x\",i);\n",
    "    return 0;\n",
    "}"
   ]
  },
  {
   "cell_type": "code",
   "execution_count": null,
   "metadata": {},
   "outputs": [],
   "source": [
    "#include <stdio.h>\n",
    "int main()\n",
    "{\n",
    "    float a;\n",
    "    a=fmod(20.5,3.2);\n",
    "    printf(\"%f\",a);\n",
    "    return 0;\n",
    "}\n"
   ]
  },
  {
   "cell_type": "code",
   "execution_count": null,
   "metadata": {},
   "outputs": [],
   "source": [
    "#include <stdio.h>\n",
    "int main()\n",
    "{\n",
    "    int b,a=5;\n",
    "    b=a++;\n",
    "    printf(\"%d %d\",a,b);\n",
    "    return 0;\n",
    "}"
   ]
  },
  {
   "cell_type": "code",
   "execution_count": null,
   "metadata": {},
   "outputs": [],
   "source": [
    "#include <stdio.h>\n",
    "int main()\n",
    "{\n",
    "    int c;\n",
    "    c=printf(\"hello\");\n",
    "    printf(\"\\n%d\",c);\n",
    "    return 0;\n",
    "}"
   ]
  },
  {
   "cell_type": "code",
   "execution_count": null,
   "metadata": {},
   "outputs": [],
   "source": [
    "#include <stdio.h>\n",
    "int main()\n",
    "{\n",
    "    int a,b,c;\n",
    "    c=scanf(\"%d%d\",&a,&b);\n",
    "    printf(\"\\n%d\",c);\n",
    "    return 0;\n",
    "}\n"
   ]
  },
  {
   "cell_type": "code",
   "execution_count": null,
   "metadata": {},
   "outputs": [],
   "source": [
    "#include <stdio.h>\n",
    "int main ()\n",
    "{\n",
    "  int a=5,b=,c;\n",
    "  c=b&&a++;\n",
    "  printf(\"%d\",a);\n",
    "  return 0;\n",
    "}\n"
   ]
  },
  {
   "cell_type": "code",
   "execution_count": null,
   "metadata": {},
   "outputs": [],
   "source": [
    "#include <stdio.h>\n",
    "int main ()\n",
    "{\n",
    "  int a=5,b=6,c,d=0;\n",
    "  c=b||a&&d;\n",
    "  printf(\"%d\",c);\n",
    "  return 0;\n",
    "}"
   ]
  },
  {
   "cell_type": "code",
   "execution_count": null,
   "metadata": {},
   "outputs": [],
   "source": [
    "#include <stdio.h>\n",
    "int main ()\n",
    "{\n",
    "  int a;\n",
    "  if(a!=b)\n",
    "  printf(\"yes\");\n",
    "  else\n",
    "  printf(\"no\");\n",
    "  printf(\"%d\",a);\n",
    "  return 0;\n",
    "}"
   ]
  },
  {
   "cell_type": "code",
   "execution_count": null,
   "metadata": {},
   "outputs": [],
   "source": [
    "#include <stdio.h>\n",
    "int main ()\n",
    "{\n",
    "  int a=5,b;\n",
    "  b=sizeof(++a);\n",
    "  printf(\"%d %d\",a,b);\n",
    "  return 0;\n",
    "}\n"
   ]
  },
  {
   "cell_type": "code",
   "execution_count": null,
   "metadata": {},
   "outputs": [],
   "source": [
    "#include <stdio.h>\n",
    "int main ()\n",
    "{\n",
    "  int a=5,b=6,c;\n",
    "  c=a<b?a:b;\n",
    "  printf(\"%d\",c);\n",
    "  return 0;\n",
    "}\n"
   ]
  },
  {
   "cell_type": "code",
   "execution_count": null,
   "metadata": {},
   "outputs": [],
   "source": [
    "#include <stdio.h>\n",
    "int main ()\n",
    "{\n",
    "  int a=6,b=5,c;\n",
    "  c=a?0:1;\n",
    "  printf(\"%d\",c);\n",
    "  return 0;\n",
    "}\n"
   ]
  }
 ],
 "metadata": {
  "kernelspec": {
   "display_name": "Python 3",
   "language": "python",
   "name": "python3"
  },
  "language_info": {
   "codemirror_mode": {
    "name": "ipython",
    "version": 3
   },
   "file_extension": ".py",
   "mimetype": "text/x-python",
   "name": "python",
   "nbconvert_exporter": "python",
   "pygments_lexer": "ipython3",
   "version": "3.7.3"
  }
 },
 "nbformat": 4,
 "nbformat_minor": 2
}
