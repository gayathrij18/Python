{
 "cells": [
  {
   "cell_type": "markdown",
   "metadata": {},
   "source": [
    "# Functional Programming\n",
    "- Simple\n",
    "- Easy to understand\n",
    "- Better Reusability\n",
    "- Lengthy program will be divides into sub programs"
   ]
  },
  {
   "cell_type": "code",
   "execution_count": null,
   "metadata": {},
   "outputs": [],
   "source": [
    "# syntax:\n",
    "def nameofthe function(<paramters>):\n",
    "    statements\n",
    "    return"
   ]
  },
  {
   "cell_type": "code",
   "execution_count": 11,
   "metadata": {},
   "outputs": [
    {
     "data": {
      "text/plain": [
       "6"
      ]
     },
     "execution_count": 11,
     "metadata": {},
     "output_type": "execute_result"
    }
   ],
   "source": [
    "#input:1234\n",
    "#output:6(2+4)\n",
    "def evendigit(n):\n",
    "    s = 0\n",
    "    while n!=0:\n",
    "        r =n%10\n",
    "        if r %2 ==0:\n",
    "            s =s+r\n",
    "        n = n//10\n",
    "    return s\n",
    "evendigit(1234)"
   ]
  },
  {
   "cell_type": "code",
   "execution_count": 8,
   "metadata": {},
   "outputs": [
    {
     "data": {
      "text/plain": [
       "9"
      ]
     },
     "execution_count": 8,
     "metadata": {},
     "output_type": "execute_result"
    }
   ],
   "source": [
    "# print largest number from the given numbers\n",
    "# input:19528\n",
    "# output:9\n",
    "def largest(n):\n",
    "    s = 0 \n",
    "    while n!=0:\n",
    "        r =n%10\n",
    "        if r>s:\n",
    "            s=r\n",
    "        n = n//10\n",
    "    return s\n",
    "largest(19528)\n",
    "       "
   ]
  },
  {
   "cell_type": "code",
   "execution_count": 10,
   "metadata": {},
   "outputs": [
    {
     "data": {
      "text/plain": [
       "321"
      ]
     },
     "execution_count": 10,
     "metadata": {},
     "output_type": "execute_result"
    }
   ],
   "source": [
    "# Reverse of given number\n",
    "# input:123\n",
    "# output:321\n",
    "def reverse(n):\n",
    "    s = 0\n",
    "    while n!=0:\n",
    "        r =n%10\n",
    "        s=s*10+r\n",
    "        n = n//10\n",
    "    return s\n",
    "reverse(123)\n"
   ]
  },
  {
   "cell_type": "markdown",
   "metadata": {},
   "source": [
    "### for loop\n",
    "#### syntax\n",
    "for in range(start,stop,step):\n",
    "> statements"
   ]
  },
  {
   "cell_type": "code",
   "execution_count": 12,
   "metadata": {},
   "outputs": [
    {
     "name": "stdout",
     "output_type": "stream",
     "text": [
      "11 12 13 14 15 16 17 18 19 20 21 22 23 24 25 "
     ]
    }
   ],
   "source": [
    "# print the numbers between two limits\n",
    "# input: 11 25\n",
    "# outpur: 11 22 ..... 25\n",
    "def printseries(lb,ul):\n",
    "    for i in range(lb,ul+1):\n",
    "        print(i,end=' ')\n",
    "    return\n",
    "printseries(11,25)"
   ]
  },
  {
   "cell_type": "code",
   "execution_count": null,
   "metadata": {},
   "outputs": [],
   "source": []
  }
 ],
 "metadata": {
  "kernelspec": {
   "display_name": "Python 3",
   "language": "python",
   "name": "python3"
  },
  "language_info": {
   "codemirror_mode": {
    "name": "ipython",
    "version": 3
   },
   "file_extension": ".py",
   "mimetype": "text/x-python",
   "name": "python",
   "nbconvert_exporter": "python",
   "pygments_lexer": "ipython3",
   "version": "3.7.3"
  }
 },
 "nbformat": 4,
 "nbformat_minor": 2
}
