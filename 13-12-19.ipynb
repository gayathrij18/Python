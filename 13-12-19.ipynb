{
 "cells": [
  {
   "cell_type": "markdown",
   "metadata": {},
   "source": [
    "# Markdown\n",
    "## Markdown\n",
    "### Markdown"
   ]
  },
  {
   "cell_type": "markdown",
   "metadata": {},
   "source": [
    "# insert site address\n",
    "[site](http://ct3.gitam.edu/)"
   ]
  },
  {
   "cell_type": "markdown",
   "metadata": {},
   "source": [
    "# insert image\n",
    "![site](https://images.pexels.com/photos/414612/pexels-photo-414612.jpeg?auto=compress&cs=tinysrgb&dpr=1&w=500)"
   ]
  },
  {
   "cell_type": "markdown",
   "metadata": {},
   "source": [
    "# Python Basics\n",
    "Python is a beginner's language\n",
    "\n",
    "Python is easy to learn\n"
   ]
  },
  {
   "cell_type": "markdown",
   "metadata": {},
   "source": [
    "# Creating Ordered List\n",
    "1. abs\n",
    "2. hgbs\n",
    "      1. a\n",
    "      2. b"
   ]
  },
  {
   "cell_type": "markdown",
   "metadata": {},
   "source": [
    "# Unordered List\n",
    "- abc\n",
    "- geg\n",
    "  - a\n",
    "  - b"
   ]
  },
  {
   "cell_type": "markdown",
   "metadata": {},
   "source": [
    "# Bold and Italic\n",
    "**GAYATHRI**\n",
    "*GAYATHRI*"
   ]
  },
  {
   "cell_type": "code",
   "execution_count": 3,
   "metadata": {},
   "outputs": [
    {
     "name": "stdout",
     "output_type": "stream",
     "text": [
      "HELLO WORLD!\n"
     ]
    }
   ],
   "source": [
    "#Basic hello\n",
    "print(\"HELLO WORLD!\")"
   ]
  },
  {
   "cell_type": "code",
   "execution_count": 4,
   "metadata": {},
   "outputs": [
    {
     "data": {
      "text/plain": [
       "33"
      ]
     },
     "execution_count": 4,
     "metadata": {},
     "output_type": "execute_result"
    }
   ],
   "source": [
    "#Variable creation\n",
    "x = 15\n",
    "y = 18\n",
    "x + y"
   ]
  },
  {
   "cell_type": "markdown",
   "metadata": {},
   "source": [
    "# Rules for variable\n",
    "- Name should begin with a character\n",
    "- No special character allowed except _ "
   ]
  },
  {
   "cell_type": "code",
   "execution_count": 6,
   "metadata": {},
   "outputs": [
    {
     "name": "stdout",
     "output_type": "stream",
     "text": [
      "my name is: Gayathri age is: 18\n"
     ]
    }
   ],
   "source": [
    "name = \"Gayathri\"\n",
    "age = 18\n",
    "print(\"my name is:\",name,\"age is:\",age)"
   ]
  },
  {
   "cell_type": "code",
   "execution_count": 9,
   "metadata": {
    "scrolled": true
   },
   "outputs": [
    {
     "name": "stdout",
     "output_type": "stream",
     "text": [
      "enter name:Gayu\n",
      "enter age:21\n",
      "my name is: Gayu age is: 21\n"
     ]
    }
   ],
   "source": [
    "name = input(\"enter name:\")\n",
    "age = int(input(\"enter age:\"))\n",
    "print(\"my name is:\",name,\"age is:\",age)"
   ]
  },
  {
   "cell_type": "code",
   "execution_count": 27,
   "metadata": {},
   "outputs": [
    {
     "name": "stdout",
     "output_type": "stream",
     "text": [
      "enter a number:33\n",
      "enter a number:9\n",
      "addition of numbers: 42\n",
      "subtraction of numbers: 24\n",
      "multiplication of numbers: 297\n",
      "division of numbers: 3.6666666666666665\n",
      "remainder of numbers: 6\n"
     ]
    }
   ],
   "source": [
    "x = int(input(\"enter a number:\"))\n",
    "y = int(input(\"enter a number:\"))\n",
    "\n",
    "print(\"addition of numbers:\",x + y)\n",
    "print(\"subtraction of numbers:\",x - y)\n",
    "print(\"multiplication of numbers:\",x * y)\n",
    "print(\"division of numbers:\",x / y)\n",
    "print(\"remainder of numbers:\",x % y)"
   ]
  },
  {
   "cell_type": "markdown",
   "metadata": {},
   "source": [
    "# Fundamental data types\n",
    "- int\n",
    "- float\n",
    "- complex\n",
    "- boolean\n",
    "- string"
   ]
  },
  {
   "cell_type": "code",
   "execution_count": 22,
   "metadata": {},
   "outputs": [
    {
     "name": "stdout",
     "output_type": "stream",
     "text": [
      "<class 'int'>\n",
      "<class 'float'>\n",
      "<class 'complex'>\n"
     ]
    }
   ],
   "source": [
    "x = 12\n",
    "y = 13.31\n",
    "z = 5+12j\n",
    "print(type(x))\n",
    "print(type(y))\n",
    "print(type(z))"
   ]
  },
  {
   "cell_type": "code",
   "execution_count": 26,
   "metadata": {},
   "outputs": [
    {
     "name": "stdout",
     "output_type": "stream",
     "text": [
      "(2+5j)\n"
     ]
    }
   ],
   "source": [
    "c = complex(2,5)\n",
    "print(c)"
   ]
  },
  {
   "cell_type": "code",
   "execution_count": 28,
   "metadata": {},
   "outputs": [
    {
     "name": "stdout",
     "output_type": "stream",
     "text": [
      "(9+12j)\n",
      "(-3-2j)\n",
      "(-17+51j)\n"
     ]
    }
   ],
   "source": [
    "c1 = 3+5j\n",
    "c2 = 6+7j\n",
    "print(c1+c2)\n",
    "print(c1-c2)\n",
    "print(c1*c2)"
   ]
  },
  {
   "cell_type": "code",
   "execution_count": 31,
   "metadata": {},
   "outputs": [
    {
     "data": {
      "text/plain": [
       "True"
      ]
     },
     "execution_count": 31,
     "metadata": {},
     "output_type": "execute_result"
    }
   ],
   "source": [
    "#Boolean\n",
    "a = 6\n",
    "b = 9\n",
    "a < b"
   ]
  },
  {
   "cell_type": "code",
   "execution_count": 34,
   "metadata": {},
   "outputs": [
    {
     "name": "stdout",
     "output_type": "stream",
     "text": [
      "<class 'str'>\n",
      "<class 'str'>\n"
     ]
    }
   ],
   "source": [
    "#String\n",
    "s1 = \"abc\"\n",
    "s2 = \"xyz\"\n",
    "print(type(s1))\n",
    "print(type(s2))"
   ]
  },
  {
   "cell_type": "code",
   "execution_count": 35,
   "metadata": {},
   "outputs": [
    {
     "name": "stdout",
     "output_type": "stream",
     "text": [
      "<class 'int'>\n",
      "<class 'str'>\n",
      "<class 'float'>\n"
     ]
    }
   ],
   "source": [
    "i = 18\n",
    "print(type(i))\n",
    "s1 = str(i)\n",
    "print(type(s1))\n",
    "f1 = float(i)\n",
    "print(type(f1))"
   ]
  },
  {
   "cell_type": "code",
   "execution_count": 36,
   "metadata": {},
   "outputs": [
    {
     "name": "stdout",
     "output_type": "stream",
     "text": [
      "4\n"
     ]
    }
   ],
   "source": [
    "#length\n",
    "a = 1234\n",
    "print(len(str(a)))"
   ]
  },
  {
   "cell_type": "code",
   "execution_count": 39,
   "metadata": {},
   "outputs": [
    {
     "name": "stdout",
     "output_type": "stream",
     "text": [
      "99\n",
      "18 18 18\n",
      "15 27 93\n"
     ]
    }
   ],
   "source": [
    "n1 = 99\n",
    "a = b = c =18\n",
    "a1,b1,c1 = 15,27,93\n",
    "print(n1)\n",
    "print(a,b,c)\n",
    "print(a1,b1,c1)"
   ]
  },
  {
   "cell_type": "markdown",
   "metadata": {},
   "source": [
    "# Precendence of the Arth operators\n",
    "- Parenthesis\n",
    "- Power\n",
    "- Multiplication\n",
    "- Addition"
   ]
  },
  {
   "cell_type": "code",
   "execution_count": 43,
   "metadata": {},
   "outputs": [
    {
     "name": "stdout",
     "output_type": "stream",
     "text": [
      "9.0\n"
     ]
    }
   ],
   "source": [
    "x = 1 + 2 ** 3 /4 + 6\n",
    "print(x)"
   ]
  },
  {
   "cell_type": "code",
   "execution_count": 46,
   "metadata": {},
   "outputs": [
    {
     "name": "stdout",
     "output_type": "stream",
     "text": [
      "11.0\n"
     ]
    }
   ],
   "source": [
    "x = 1 + 2 ** 3 /4 * 5\n",
    "print(x)"
   ]
  },
  {
   "cell_type": "markdown",
   "metadata": {},
   "source": [
    "# Operators\n",
    "## Arithmetic Operators\n",
    "- +\n",
    "- -\n",
    "- *\n",
    "- /\n",
    "- %\n",
    "- **\n",
    "- //"
   ]
  },
  {
   "cell_type": "code",
   "execution_count": 50,
   "metadata": {},
   "outputs": [
    {
     "name": "stdout",
     "output_type": "stream",
     "text": [
      "enter a number:9\n",
      "enter a number:7\n",
      "addition of numbers: 16\n",
      "subtraction of numbers: 2\n",
      "multiplication of numbers: 63\n",
      "division of numbers: 1.2857142857142858\n",
      "remainder of numbers: 2\n",
      "power of numbers: 4782969\n",
      "quotient of numbers: 1\n"
     ]
    }
   ],
   "source": [
    "x = int(input(\"enter a number:\"))\n",
    "y = int(input(\"enter a number:\"))\n",
    "\n",
    "print(\"addition of numbers:\",x + y)\n",
    "print(\"subtraction of numbers:\",x - y)\n",
    "print(\"multiplication of numbers:\",x * y)\n",
    "print(\"division of numbers:\",x / y)\n",
    "print(\"remainder of numbers:\",x % y)\n",
    "print(\"power of numbers:\",x ** y)\n",
    "print(\"quotient of numbers:\",x // y)"
   ]
  },
  {
   "cell_type": "markdown",
   "metadata": {},
   "source": [
    "## Relational Operators\n",
    "- ==, !=, <, >, <=, >=\n"
   ]
  },
  {
   "cell_type": "code",
   "execution_count": 51,
   "metadata": {},
   "outputs": [
    {
     "name": "stdout",
     "output_type": "stream",
     "text": [
      "False\n"
     ]
    }
   ],
   "source": [
    "x = 5\n",
    "a = x > 10\n",
    "print(a)"
   ]
  },
  {
   "cell_type": "markdown",
   "metadata": {},
   "source": [
    "## Logical Operators\n",
    "- and\n",
    "- or\n",
    "- not"
   ]
  },
  {
   "cell_type": "code",
   "execution_count": 55,
   "metadata": {},
   "outputs": [
    {
     "name": "stdout",
     "output_type": "stream",
     "text": [
      "True\n",
      "False\n",
      "False\n"
     ]
    }
   ],
   "source": [
    "i = 100\n",
    "a1 = (i > 15) and (i > 75)\n",
    "a2 = (i > 222) or (i > 175)\n",
    "print(a1)\n",
    "print(a2)\n",
    "print(not i)"
   ]
  },
  {
   "cell_type": "markdown",
   "metadata": {},
   "source": [
    "## Membership Operator\n",
    "- in\n",
    "- not in"
   ]
  },
  {
   "cell_type": "code",
   "execution_count": 56,
   "metadata": {},
   "outputs": [
    {
     "name": "stdout",
     "output_type": "stream",
     "text": [
      "True\n",
      "False\n"
     ]
    }
   ],
   "source": [
    "str1 = \"abc\"\n",
    "print('a' in str1)\n",
    "print('a' not in str1)"
   ]
  },
  {
   "cell_type": "markdown",
   "metadata": {},
   "source": [
    "# Control Flow Statements\n",
    "- Conditional statements\n",
    "- Looping statements\n",
    "## if-else statement\n",
    "- syntax\n",
    "#### if condition:\n",
    "> statements<br>\n",
    "#### else\n",
    "> statements"
   ]
  },
  {
   "cell_type": "code",
   "execution_count": 63,
   "metadata": {},
   "outputs": [
    {
     "name": "stdout",
     "output_type": "stream",
     "text": [
      "enter a number:9\n",
      "number is odd\n"
     ]
    }
   ],
   "source": [
    "#check given number is even or odd\n",
    "n = int(input(\"enter a number:\"))\n",
    "if n %2 ==0:\n",
    "    print(\"number is even\")\n",
    "else:\n",
    "    print(\"number is odd\")"
   ]
  },
  {
   "cell_type": "code",
   "execution_count": 69,
   "metadata": {},
   "outputs": [
    {
     "name": "stdout",
     "output_type": "stream",
     "text": [
      "enter a number:15\n",
      "yes\n"
     ]
    }
   ],
   "source": [
    "#check given number is perfectly multiple of 3 and 5\n",
    "n = int(input(\"enter a number:\"))\n",
    "if n %3==0 and n%5==0:\n",
    "    print(\"yes\")\n",
    "else:\n",
    "    print(\"no\")"
   ]
  },
  {
   "cell_type": "code",
   "execution_count": 78,
   "metadata": {},
   "outputs": [
    {
     "name": "stdout",
     "output_type": "stream",
     "text": [
      "enter a number:9\n",
      "positive\n"
     ]
    }
   ],
   "source": [
    "#check given number is positive,negative or zero\n",
    "n = int(input(\"enter a number:\"))\n",
    "if n >0:\n",
    "    print(\"positive\")\n",
    "elif n <0:\n",
    "    print(\"negative\")\n",
    "else:    \n",
    "    print(\"zero\")"
   ]
  }
 ],
 "metadata": {
  "kernelspec": {
   "display_name": "Python 3",
   "language": "python",
   "name": "python3"
  },
  "language_info": {
   "codemirror_mode": {
    "name": "ipython",
    "version": 3
   },
   "file_extension": ".py",
   "mimetype": "text/x-python",
   "name": "python",
   "nbconvert_exporter": "python",
   "pygments_lexer": "ipython3",
   "version": "3.7.3"
  }
 },
 "nbformat": 4,
 "nbformat_minor": 2
}
